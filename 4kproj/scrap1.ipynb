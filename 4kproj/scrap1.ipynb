{
 "cells": [
  {
   "cell_type": "code",
   "execution_count": 13,
   "metadata": {},
   "outputs": [
    {
     "output_type": "stream",
     "name": "stderr",
     "text": [
      "[nltk_data] Downloading package stopwords to C:\\Users\\The Black\n[nltk_data]     Hawk\\AppData\\Roaming\\nltk_data...\n[nltk_data]   Package stopwords is already up-to-date!\n[nltk_data] Downloading package wordnet to C:\\Users\\The Black\n[nltk_data]     Hawk\\AppData\\Roaming\\nltk_data...\n[nltk_data]   Package wordnet is already up-to-date!\n[nltk_data] Downloading package punkt to C:\\Users\\The Black\n[nltk_data]     Hawk\\AppData\\Roaming\\nltk_data...\n[nltk_data]   Package punkt is already up-to-date!\n"
     ]
    },
    {
     "output_type": "execute_result",
     "data": {
      "text/plain": [
       "True"
      ]
     },
     "metadata": {},
     "execution_count": 13
    }
   ],
   "source": [
    "import pandas as pd\n",
    "import nltk\n",
    "from textblob import Word\n",
    "# import pickle\n",
    "import re\n",
    "import string\n",
    "from sklearn.feature_extraction.text import CountVectorizer\n",
    "from gensim import matutils, models\n",
    "import scipy.sparse\n",
    "from sklearn.feature_extraction import text\n",
    "from nltk.corpus import stopwords\n",
    "from gensim.models import Word2Vec\n",
    "from sklearn.pipeline import Pipeline\n",
    "from sklearn.ensemble import ExtraTreesClassifier\n",
    "# from wordcloud import WordCloud\n",
    "nltk.download('stopwords')\n",
    "nltk.download('wordnet')\n",
    "nltk.download('punkt')"
   ]
  },
  {
   "cell_type": "code",
   "execution_count": 14,
   "metadata": {},
   "outputs": [],
   "source": [
    "def clean_text_round1(text):\n",
    "    text = str(text.lower())\n",
    "    text = re.sub('http.* ', '', text)\n",
    "    text = re.sub('[%s]' % re.escape(string.punctuation), '', text)\n",
    "    text = re.sub('\\w*\\d\\w*', '', text)\n",
    "    text = re.sub('[‘’“”…]', '', text)\n",
    "    text = re.sub('\\n', '', text)\n",
    "    return text\n"
   ]
  },
  {
   "cell_type": "code",
   "execution_count": 15,
   "metadata": {},
   "outputs": [
    {
     "output_type": "stream",
     "name": "stdout",
     "text": [
      "   id keyword location                                               text  \\\n0   1     NaN      NaN  Our Deeds are the Reason [][][][][][of this #e...   \n1   4     NaN      NaN             Forest fire near La Ronge Sask. Canada   \n2   5     NaN      NaN  All residents asked to 'shelter in place' are ...   \n3   6     NaN      NaN  13,000 people receive #wildfires evacuation or...   \n4   7     NaN      NaN  Just got sent this photo from Ruby #Alaska as ...   \n\n   target  \n0       1  \n1       1  \n2       1  \n3       1  \n4       1  \n"
     ]
    }
   ],
   "source": [
    "train = pd.read_csv(\"nlp-getting-started/train.csv\")\n",
    "test = pd.read_csv(\"nlp-getting-started/test.csv\")\n",
    "cv = CountVectorizer(stop_words='english')\n",
    "\n",
    "\n",
    "print(train.head())"
   ]
  },
  {
   "cell_type": "code",
   "execution_count": 16,
   "metadata": {},
   "outputs": [
    {
     "output_type": "stream",
     "name": "stdout",
     "text": [
      "0       Our Deeds are the Reason [][][][][][of this #e...\n",
      "1                  Forest fire near La Ronge Sask. Canada\n",
      "2       All residents asked to 'shelter in place' are ...\n",
      "3       13,000 people receive #wildfires evacuation or...\n",
      "4       Just got sent this photo from Ruby #Alaska as ...\n",
      "                              ...                        \n",
      "7608    Two giant cranes holding a bridge collapse int...\n",
      "7609    @aria_ahrary @TheTawniest The out of control w...\n",
      "7610    M1.94 [01:04 UTC]?5km S of Volcano Hawaii. htt...\n",
      "7611    Police investigating after an e-bike collided ...\n",
      "7612    The Latest: More Homes Razed by Northern Calif...\n",
      "Name: text, Length: 7613, dtype: object\n",
      "0       our deeds are the reason of this earthquake ma...\n",
      "1                   forest fire near la ronge sask canada\n",
      "2       all residents asked to shelter in place are be...\n",
      "3        people receive wildfires evacuation orders in...\n",
      "4       just got sent this photo from ruby alaska as s...\n",
      "                              ...                        \n",
      "7608    two giant cranes holding a bridge collapse int...\n",
      "7609    ariaahrary thetawniest the out of control wild...\n",
      "7610                                 s of volcano hawaii \n",
      "7611    police investigating after an ebike collided w...\n",
      "7612    the latest more homes razed by northern califo...\n",
      "Name: text, Length: 7613, dtype: object\n"
     ]
    }
   ],
   "source": [
    "round1 = lambda x: clean_text_round1(x) \n",
    "print(train.text)\n",
    "train.text = pd.DataFrame(train.text.apply(round1))\n",
    "test.text = pd.DataFrame(test.text.apply(round1))\n",
    "list(train.columns.values) \n",
    "print(train.text)"
   ]
  },
  {
   "cell_type": "code",
   "execution_count": 36,
   "metadata": {},
   "outputs": [
    {
     "output_type": "stream",
     "name": "stdout",
     "text": [
      "0         deeds reason earthquake may allah forgive us\n",
      "1                forest fire near la ronge sask canada\n",
      "2    residents asked shelter place notified officer...\n",
      "3    people receive wildfires evacuation orders cal...\n",
      "4    got sent photo ruby alaska smoke wildfires pou...\n",
      "Name: text, dtype: object\n",
      "Word2Vec(vocab=16915, size=300, alpha=0.025)\n",
      "******\n"
     ]
    }
   ],
   "source": [
    "train_target = train[\"target\"]\n",
    "train_data = train.drop(\"target\", axis=1)\n",
    "# test_target = test[\"target\"]\n",
    "# test_data = test.drop(\"target\", axis=1)\n",
    "stop = stopwords.words('english')\n",
    "stop.append('u')\n",
    "# print(stop)\n",
    "\n",
    "# ----------APPLY DATA CLEANING\n",
    "train_data['text'] = train_data['text'].apply(lambda x:' '.join(x for x in x.split() if not x in stop))\n",
    "# test_data['text'] = test_data['text'].apply(lambda x:' '.join(x for x in x.split() if not x in stop))\n",
    "\n",
    "# train_data['text'] = train_data['text'].apply(lambda x: \" \".join([Word(word).lemmatize() for word in x.split()]))\n",
    "print(train_data['text'].head())\n",
    "# train_data1=train_data[['id','text']]\n",
    "# token_data=[]\n",
    "# for i in train_data['text']:\n",
    "#     token_data.append(nltk.word_tokenize(i))\n",
    "# print(token_data)\n",
    "bigger_list=[]\n",
    "for i in train_data['text']:\n",
    "    li = list(i.split(\" \"))\n",
    "    bigger_list.append(li)\n",
    "# for i in test_data['text']:\n",
    "#     li = list(i.split(\" \"))\n",
    "#     bigger_list.append(li)\n",
    "#structure of data to be taken by the model.word2vec\n",
    "# print(\"Data format for the overall list:\",bigger_list)\n",
    "#custom data is fed to machine for further processing\n",
    "model = Word2Vec(bigger_list, min_count=1,size=300,workers=4)\n",
    "w2v = dict(zip(model.wv.index2word, model.wv.vectors))\n",
    "print(model)\n",
    "# print(w2v)\n",
    "print(\"******\")\n"
   ]
  },
  {
   "cell_type": "code",
   "execution_count": 37,
   "metadata": {
    "tags": [
     "outputPrepend"
    ]
   },
   "outputs": [
    {
     "output_type": "stream",
     "name": "stdout",
     "text": [
      ", 'colorectal', 'humanityi', 'apologized', 'survivorsr', 'sojapan', 'nuclearweapons', 'coppednews', 'haunting', 'kotowsa', 'sudan\\x89ûªs', 'mithitennis', 'crackedgem', 'httptcoggnbvzohwu', 'molecularly', 'targeted', 'lungcancer', 'violators', 'improved', 'hurled', 'nuked', 'nears', 'focuses', 'fedporn', 'absurd', 'satire', 'indistinguishable', 'reality', '\\x89û÷faceless', 'sister\\x89ûª', 'shanghai', 'ghetto', 'reunite', 'netflix', 'documentary', 'narrated', 'parter', 'interviews', 'lawfulsurvivor', 'tdog', 'holed', 'glenn', 'morales', 'andrea', 'jacqui', 'merle', 'stemming', 'cubs', 'rosters', 'haley', 'lu', 'richardson', 'httptcooobscfoktq', 'remembrance', 'truthnewsbbccnnislamtruthgodisisterrorismquranlies', 'islamist', 'anjem', 'choudary', 'robpulsenews', 'huyovoetripolye', 'phillips', 'ldnrterrorists', 'httptcoudkmadkuzy', 'preacher', 'faces', 'httptcodaplllfuqk', 'sneaks', 'cockpit', 'democracy\\x89ûªs', 'dawabsha', 'erode', 'homegrown', 'truthhttpstcobejftygjilnewsbbccnnislamtruthgodisisterrorismquranlies', 'omega', 'explores', 'religion', 'rayner', 'newsarama', 'crossborder', 'redhanded', 'ctd', 'orangi', 'counterterrorism', 'sindh', 'domestic', 'httpstcogevrmbvznb', 'diretube', 'fightåêterrorism', 'httptcoysxhfwmgod', 'muslimsterrorismor', 'catholicismhomophobia', 'jihadi', 'protostates', 'dhs', 'chattanooga', '\\x89û÷islamic', 'terrorism\\x89ûª', 'pakistans', 'suspects', 'httptcoajpbdcalew', 'ifs', 'ands', 'buts', 'httptcohfgjgfgfel', 'incitement', 'beinart', 'adamnibloe', 'unity', 'negotiating', 'httptcoszeapueuvy', 'appraisal', 'pakistan\\x89ûªs', 'antiterrorism', 'httptcouiqsfgzoox', 'naved', 'citizen', 'lubrication', 'metrofmtalk', 'officialmqm', 'convivted', 'mohammed', 'pulwama', 'jampampk', 'nia', 'quizzed', 'denies', 'bjpsamvad', 'warra', 'rahulkanwal', 'jammu', 'license', 'disowned', 'kasab', 'disowns', 'an\\x89û', 'kasabwe', 'biryani', 'shipsxanchors', 'idek', 'roles', 'httptcoximpnczxth', 'swiftycommissh', 'taoistinsight', 'immortaltech', 'tht', 'killin', 'mccain\\x89ûªs', 'whoops', 'photographed', 'isis\\x89û', 'tire', 'haaretz', 'overnight', 'udhampuragain', 'shedid', 'bushs', 'washard', 'stopping', 'acquire', 'traitor', 'alipaper', 'keepingtheviginaclean', 'threatconnect', 'threatintel', 'burger', 'newscomauhq', 'kinggerudo', 'moblins', 'hed', 'duh', 'generational', '\\x89û÷british', 'schism\\x89ûª', 'privacy', 'httptcodqtmtpqmbr', 'httptcodmsnyptscy', 'bhusa', 'jihad', '\\x89ûïall', 'islamaphobe', 'httptcohwnyxxkczz', 'definite', 'crown', 'drake\\x89ûªs', 'wedgie', 'httptcoqqskybarng', 'illusoria', 'icarus', 'playingnow', 'bloodbound', 'kristyleemusic', 'devinjoslyn', 'types', 'httpstcoetuuyislhw', 'atlevents', 'convection', 'spits', 'nlwx', 'lightumupbeast', 'originalfunko', 'spencers', 'buddys', 'waldo', 'cooperstown', 'joestrong', 'gokitgo', 'heheh', 'frequent', 'uptown', 'midtown', 'snipe', 'torrential', 'relaxing', 'soothmyslumber', 'watermeloann', 'populardemand', 'wc', 'weebly', 'asimtanvir', 'nemesiskpes', 'sheetingaaaaaand', 'lightningi', 'mama', 'leonalewis', 'essenceofme', 'majorshes', 'gloomy', 'shakes', 'wthat', 'durant', 'nba', 'adidas', 'swingman', 'jersey', 'rumbling', 'haydnexists', 'didn\\x89ûªt', 'lorr', 'advice', 'noah', 'usnwsgov', 'oun', 'lincoln', 'museawayfic', 'beenghosting', 'xylodemon', 'rachelrofe', 'continued', 'oklahomaok', 'buren', 'inws', 'spsgsp', 'pickens', 'httptcoldcwkyuaff', 'penny', 'cest', 'conditionsfair', 'fforecastthu', 'fri', 'russellville', 'clarksville', 'dardanelle', 'livingsafely', 'vivaargentina', 'pea', 'httptcotsaletftkt', 'choctaw', 'httptcouzwlgjqzns', 'lethbridge', 'mdt', 'helsinkithunder', 'lightningstrike', 'helsinki\\x89û', 'mainly', 'cloudy', 'showers', 'ocd', 'soonergrunt', 'brrookkllyynnr', 'tornadogiveaway', 'thebookclub', 'ticklemeshawn', 'evebrigid', 'lily', 'xo', 'cowgirl', 'courtney', 'laudner', 'teases', 'panties', 'goode', 'ski', 'championships', 'mon', 'sunday\\x89ûªs', 'skye', 'horny', 'juicy', 'sakhalintribune', 'eastward', 'superman', 'slowpoke', 'poc', 'thunderstormtornado', 'woken', 'kunalkapoor', 'stormchaserphotography', 'pod', 'heather', 'ava', 'sparxxx', 'threesome', 'brunette', 'stretches', 'victorian', 'sofa', 'reference', 'heller', 'marley', 'brinx', 'striptease', 'spreads', 'pounding', 'distinct', 'rotation', 'condenses', 'villa', 'mcv', 'subtornado', 'ayshuntornado', 'giselle', 'cbcca', 'end\\x89û', 'toocodtodd', 'tulowitzki', 'hayden', 'poses', 'strips', 'recount', 'timesofindia', 'soulja', 'maaaaan', 'greater', 'comfortable', 'collective', 'httpstcophfoeozyps', '\\x89ûïwhen', 'plunging', 'sorrowful', 'redemption', 'platt', 'for\\x89û', 'homeworldgym', 'thisisperidot', 'tragedymonicas', 'railways', 'wm', 'lewis', '\\x89û÷vulnerable\\x89ûª', 'toiindianews', 'ofcourse', 'caued', 'washing', 'httptcovscpgmsjxy', 'tanehisicoates', 'laced', 'monologue', 'charlize', 'coulda', 'tbr', 'browsing', 'gr', 'homepage', 'sriramk', 'commons', 'ownership', 'itssselenaluna', 'gagnon', 'imposing', 'marriage', 'httptcohipklxphnp', 'my\\x89û', 'httptcogdjtzkpchk', 'gunning', 'romanceit', 'mebut', 'heartache', 'miseryaint', 'ariana', 'grande', 'csaresu', 'httptcosdmrzgeryx', 'leitchfield', 'bella', 'edward', 'rosalie', 'rescueadoptionlocal', 'homessponsorships', 'almusafirah', 'innit', 'suvs', 'prettyboyshyflizzy', 'beautifully', 'httptcofkxcsztezb', 'miners', 'chile', 'starring', 'onihimedesu', 'manga', 'triangle', 'explosive', 'tween', 'salute', 'battleroyalemod', 'teleported', 'somewhere', 'decides', 'httptcoyeljpqhmed', 'billionaires', 'blakeschmidt', 'eudrylantiqua', 'holly', 'victorious', 'rv', 'santiago', 'hollyw', 'remodeled', 'dramaallama', 'lilourry', 'stan', 'zarry', 'narry', 'boyinahorsemask', 'panda', 'nz', 'hugomatz', 'lilithsaintcrow', 'lavenderpoetrycafe', 'encoded', 'sensory', 'cognitive', 'addicts', 'defensive', 'decreases', 'vulnerability', 'viviangiang', 'nissannews', 'hospitalized', 'bings', 'drphil', 'morganlawgrp', 'selfinflict', 'consistent', 'dimensions', 'agdq', 'kororinpa', 'marble', 'tloz', 'oracle', 'metroid', 'crazyindapeg', 'understandable', 'ptsdchat', 'eshop', 'eightynine', 'affliction', 'extraordinaire', 'rosenthalauthor', 'communicate', 'gravitychat', 'ashghebranious', 'transgenerational', 'thetimepast', 'saalon', 'resolved', 'fricken', 'ptsdhempoil', 'cannabis', 'marijuana\\x89û', 'intragenerational', 'sandra', 'bland', 'haircuts', 'minimal', 'arobotlegion', 'oppressed', 'ignorant', 'unaddressed', 'keithboykin', 'randallpinkston', 'pozarmy', 'anywhere', 'abcs', 'parent', 'usg', 'paeds', 'imaging', 'foamed', 'foamcc', 'partially', 'mustachemurse', 'dateswhitecoats', 'mocked', 'simmering', 'nhl', 'concussion', 'pioneerpress', 'richmond', 'uchicago', 'faculty', 'overturn', 'protesters', 'defines', 'perpetrators', 'oneborn', 'sadtraumatised', 'parisian', 'ruddyyyyyy', 'jamie', 'httptcovzgslepkkh', 'spell', 'properly', 'annmarieronan', 'niamhosullivanx', 'tat', 'flashbacks', 'orphanage', 'mprnews', 'yessum', 'perkpearl', 'viennabutcher', 'wrongdejavu', 'malabamiandsons', 'disneyirh', 'snapchatselfie', 'wrongperson', 'alrightbut', 'judemugabi', 'abortions', '\\x89ûïkeits', 'livagotta', 'understand\\x89û\\x9done', 'ciaramckendry', 'renewed', 'vickybrush', 'topic', 'kushwush', 'hogging', 'cwheate', 'megancoopy', 'argentaelite', 'brookesddl', 'hopped', 'varagesale', 'candacedx', 'httptcoshaznlmsfe', 'rotations', 'leftleaning', 'learni', 'lucysforsale', 'afrikaan', 'thebargain', 'canagal', 'badastronomer', 'farther', 'noel', 'smoakqueen', 'jusstdoitgirl', 'wbu', 'comcastcares', 'happing', 'annajhm', 'jcomanse', 'paulstaubs', 'blanktgt', 'mustve', 'fartanxiety', 'ryans', 'boyd', 'detroitnews', 'strawberries', '\\x89ûïymcglaun', 'juliekragt', 'wildwestsixgun', 'way\\x89û\\x9dyeah', 'stable', 'buffetts', 'sectors', 'caaaaaall', 'troubleniallhariss', 'simplyvain', 'cspan', 'nikki', 'charleyisqueen', 'barber', 'egg', 'trashed', 'bak', 'charlieputh', 'astros', 'stunningly', 'pitcher', 'bats', 'mia', 'princeoffencing', 'frickin', 'motivated', 'matthew', 'donnelly', 'puth', 'httptcoxaermbmvlv', 'nopower', 'heleneyancey', 'godslove', 'thanku', 'helene', 'freefromwolves', 'danny', 'baan', 'thai', 'sushi', 'bbshelli', 'crptotech', 'banks', 'blockchain', 'optical', 'illusion', 'switzerland', 'speech', 'dvbbs', 'borgeous', 'arceen', 'tsunamiesh', 'esh', 'trends', 'startups', 'startup', 'fukushimatepcomountains', 'tsunaminopeach', 'slone', 'ripples', 'clears', 'authormike', 'amen', 'tides', 'eyesss', 'uncertain', 'tsunamis', 'kamunt', 'nostalgia', 'youuu', 'brinco', 'beacon', 'greenlacey', 'erictsunami', 'alil', 'twister', 'gail', 'russell', 'dalroy', 'shania', '\\x89û÷nother\\x89û\\x9d', 'other\\x89û\\x9d', 'tonguetwister', 'tumbles', 'todayim', 'sideand', 'sweeps', 'awayyoure', 'bitchruns', 'maddie', 'tae', 'oktxduo', 'homefolks', 'opinionated', 'proposal', 'modernized', 'omw', 'sharper', 'viper', 'hardside', 'telly', 'structuring', 'edcxo', 'dunking', 'sarahmcpants', 'justjon', 'titty', 'outbid', 'shar', 'oneself', 'discount', 'redesigning', 'itrawcwb', 'riser', 'dierks', 'bentley', 'iheartradio', 'bulgarian', 'tittie', 'noemotion', 'edk', 'pathfinders', 'ellenfromnowon', 'nexus', 'shifter', 'httptcorjpjbwvfck', 'toosoon', 'briannafrost', 'paxton', 'helen', 'carolinagutierr', 'laughs', 'sticking', 'hew', 'menpopular', 'woodchucks', 'nino', 'boost', 'httptcoagycutkbnn', 'elianaraquel', 'gg', 'wilden', 'llegaste', 'tu', 'thread', 'dolla', 'potter', 'remind', 'mrsbinker', 'davidlabrava', 'diesel', 'breed', 'pug', 'thebuffshow', 'thetwisterokc', 'shaniatwain', 'twisterlovesshania', 'curls', 'repped', 'laura', 'milne', 'thejonesesvoice', 'liguistic', 'jrlallo', 'narrator', 'chemically', 'lavatory', 'declarat', 'acenewsdesk', 'soudelors', 'landfall', 'httptcojdvsgvhlis', 'haiyan', 'devpeace', 'precipitation', 'measurement', 'mrobama', 'cnmi', 'rtcom', 'httptcoigcetumkcw', 'nbanews', 'typhoon\\x89û', 'vegetables', 'territory', 'andåêchina', 'spies', 'gpm', 'bullseye', 'httptcopiveupirky', 'strongest', 'buddha', 'urbanisation', 'upheaval', 'brahmans', 'dominance', 'fergusons', 'httptcogzekqwzijq', 'usw', 'abandoning', 'uncertaintyeconomic', 'rlyeh', 'ferguson\\x89ûªs', 'finale', 'thegame', 'newberg', 'jacque', 'betz', 'answer\\x89û', 'elderly', 'companionship', 'chester', 'chestertweetsuk', 'hardy', 'dixon', 'aladdin', 'aus', 'indepth', 'economies', 'coping', 'mayan', 'hieroglyphics', 'honors', 'lowly', 'rich', 'soilhow', 'upheavalentershikari', 'kettlebell', 'lopez', 'hindsight', 'jhmnye', 'revelation', 'roman', 'foreclosed', 'ontejc', 'jungle', 'postexistence', 'elevation', 'perquisite', 'brzjc', 'diageos', 'stresses', 'revolt', 'impacted', 'livescience', 'httptcocadzxagmsi', 'horoscope', 'lyf', 'winik', 'navigate', 'audit', 'orcot', 'orpol', 'scandal', 'parliamentary', 'expenses', 'subsequent', 'sackings', 'pov', 'amsterdam', 'watertown', 'pounds', 'blacka', 'bruise', 'chestwind', 'lifeshort', 'stormchase', 'schiphol', 'auckland', 'northland', 'battered', 'uprooting', 'httptcoenrpgrgtts', 'agony', 'apocalypsetunein', 'nasasolarsystem', 'jupiters', 'trophy', 'bantrophyhunting', 'scourgue', 'godstunein', 'uspacific', 'commandi', 'itthey', 'festivalit', 'disappears', 'freedoma', 'skarletan', 'swell', 'unqualified', 'treaty', 'teafrystlik', 'darken', 'ungodly', 'bolt', 'httptcotzdbcgpsag', 'httptcoxrgpdlswfd', 'slightest', 'stirring', 'blitzes', 'traverse', 'seminars', 'blitzed', 'tra', 'belligerent', 'unfold', 'iateyourfood', 'yikes', 'pup', 'uprootin', 'httptcofhvokmphed', 'clap', 'wth', 'rotating', 'ukraine', 'buildingwere', 'jetstar', 'bali', 'flights', 'raung', 'nside', 'dragons', 'belly', 'undera', 'kamchatka', 'byå©daniel', 'korzhonov', 'aogashima', 'httptcooegfqbiqiq', 'maailiss', 'diaporama', 'sixpenceee', 'karymsky', 'located', 'volcanoåêinåêrussia', 'indonesian', 'mrmikeeaton', 'muazimusprime', 'hil', 'earthquakes', 'kiddos', 'gi', 'specialist', 'sang', 'alextucker', 'jj', 'hickson', 'kenneth', 'faried', 'lamarcus', 'aldridge', 'west\\x89ûªs', 'zeal', 'indecisiveness', 'lexipurduee', 'volcanotornado', 'perspective', 'csismica', 'flowers', 'latechwatch', 'cityofmemphis', 'enders', 'dpagexxi', 'scegnews', 'thuggin', 'roving', 'raccoons', 'toughens', 'gears', 'chat', 'jasmines', 'littlewomenla', 'seasonfrom', 'onshit', 'thugging', 'warzone', 'homies', 'inmate', 'worldwatchesferguson', 'govjaynixon', 'clairecmc', 'packing', 'ct', 'kasiakosek', 'kitchen', 'flour', 'frying', 'decision\\x89û', 'jsdf', 'reiterate', 'mindset', 'coats', 'sprite', 'roguewatson', 'lethal', 'junsuisengen', 'dwarfonjetpack', 'irons', 'xii', 'nightmarishly', 'brutal', 'ritualistic', 'firearm', 'vector', 'cutter', 'rifle', 'rosemarytravale', 'screwed', 'weaponxmusic', 'muttatek', 'kwwwkwwwk', 'hug', 'jiahahahha', 'yeyeulala', 'esoteric', 'astrologian', 'pulse', 'insanelimits', 'plugin', 'tps', 'tdm', 'limits', 'abes', 'craykain', 'shatter', 'delusions', 'choppas', 'slosher', 'splatdown', 'itswitching', 'splatling', 'thatrussianman', 'splatoon', 'default', 'splattershot', 'nelson', 'mandela', 'salmanmydarling', 'dub', 'snazzychipz', 'catalogue', 'powerhiroshima', 'citing', 'casing', 'lollook', 'infested', 'americayour', 'weaponyou', 'wimp', 'servicin', 'lurkin', 'danagould', 'waynesteratl', 'checks', 'equalizer', 'hendrixonfire', 'blackcats', 'noob', 'mixed', 'violated', 'kdr', 'legitimate', 'needing', 'easier', 'resort', 'incredulous', 'outcry', 'taxpayers', 'similar', 'objection', 'chemicalweapons', 'lcc', 'albany', 'friendly', 'bloggers', 'ineedexposure', 'dannyonpc', 'throwingknifes', 'uswarcrimes', 'wooooooo', 'gamerant', 'esports', 'dismantling', 'knives', 'ojoubot', 'nro', 'unauthorized', 'argues', 'pelosis', 'dorismatsui', 'supporting', 'mere', 'testimony', 'conflictstactics', 'corruption', 'infiltration', 'router', 'ddos', 'eyecuts', 'erasuterism', 'gal', 'deco', 'trickier', 'splash', 'cheyenne', 'retirement', 'instruction', 'bookmobile', 'libraries', 'bigbrother', 'boeing', 'pledged', 'davidhurn', 'tokteacher', 'skynet', 'adamantly', 'opposed', 'kirstiealley', 'animaladvocate', 'safari', 'otherwisethey', 'finsup', 'certificates', 'safes', 'reagan', 'arranged', 'guatemalan', 'submissions', 'whirlwind', 'alonedont', 'piss', 'moanabout', 'madeif', 'itill', 'demeanor', 'staid', 'cramming', 'thailand', 'jaiden', 'affair', 'luhan', 'exo', 'millennium', 'plaza', 'pawsox', 'durham', 'drmartyfox', 'libs', 'tacoma', 'vixmeldrew', 'medusa', 'snake', 'inputs', 'baekhyun', 'suho', 'attending', 'syjexo', 'httptcooazjpwueyr', 'byuwnbeki', 'tacit', 'raging', 'mantra', 'south\\x89û', 'lasted', 'standstill', 'fa', 'scissor', 'alexhammerstone', 'kttape', 'ktfounder', 'remymarcel', 'frofrofro\\x89û', 'drained', 'theemobrago', 'jitsu', 'hexagon', 'yelled', 'ckosova', 'edfringe', 'titania', 'summerhallery', 'reimagining', 'shakespeares', 'midsummer', 'httpstcoiiaigzkbnj', 'scourge', 'whedonesque', 'fanged', 'cantwaittoplayinminneapolis', 'picthis', 'finall\\x89û', 'athens', 'lisowski', 'whitewashes', 'masters', 'quals', 'blacken', 'parched', 'harris', 'tinder', 'articals', 'brothernlaw', 'riooooos', 'beast', 'cal', 'sanonofre', 'foxdebatequestions', 'obamas', 'institute', 'sharia', 'darwinism', 'cnni', 'prisonplanet', 'warningwild', 'noting', 'senfeinstein', 'sen', 'uncontrolled', 'droughts', 'connecticut', 'thedayct', 'ariaahrary', 'thetawniest', 'troubling', 'wn', 'morels', 'ambleside', 'farmr', 'martsunmushroom', 'foragesecret', 'uslike', 'enzasbargains', 'donated', 'handi', 'wipes', 'profittothepeople', 'doessnt', 'rejoice', 'calamities', 'ect', 'effected', 'cali', 'foliage', 'ignited', 'hiker', 'fingerrockfire', 'httptcodeeekobmxa', 'cbs', 'wsoc', 'httptcodjufkrrtft', 'parker', 'sheet', 'pa', 'idfire', 'mattkroschel', 'vail', 'agencies', 'hearths', 'freaks', 'ember', 'kcrw', 'scariest', 'bengston', '\\x89ûïnumbers', 'upward', 'trend\\x89û\\x9d', 'smem', 'khq', 'solitude', 'utfire', 'lancasteronline', 'lancaster', 'easternoregon\\x89û', 'mulan', 'calwildfires', 'aftermath', 'oregons', 'slows', 'hikers', 'signin', 'trailheads', 'wqow', 'windstorm', 'galvnews', 'lastingness', 'acquiesce', 'retreat', 'ziuw', 'fifty', 'dates', 'bampn', 'thebachelorette', 'ij', 'niiiice', 'windstormåêinsurer', 'vhull', 'runabout', 'eurostyle', 'httptcooahlthrozy', 'ekiti', 'rainwindstorm', 'odeekiti', 'gbonyin', 'lga', 'wzbt', 'hike', 'twia', 'diegt', 'hardball', 'chriscesq', 'bigtent', 'hailstormwindstorm', 'charlesadler', 'lees', 'fart', 'browner', 'httptcobnnidfzwbd', 'battleanother', 'shirley', 'caesar', 'patio', 'umbrella', 'flipped', 'suspense', 'mystical', 'calmstillness', 'eyecenter', 'aspects', 'weigh', 'leelanau', 'extended', 'besafe', 'upwindstorm', 'inspection', 'damnwas', 'blakeshelton', 'windstormfollow', 'jeez', 'approves', 'association', 'directors', 'ijournal', 'bong', 'natures', 'goodreads', 'rangerkaitimay', 'jacksoncalm', 'httptcoypeelmjdzy', 'gunmen', 'salvadoran', 'exchanging', 'bury', 'retooled', 'retirees', 'handicapped', 'nomorehandouts', 'salvadors', 'bit\\x89û', 'exc', 'fatally', 'twilights', 'jacquie', 'biggar', 'mgtab', 'phillip', 'amritsar\\x89ûïthat\\x89ûªs', 'exaggerated', 'wounded\\x89û\\x9d', 'childor', 'claimin', 'zenit', 'asterpuppet', 'academia', 'wocowae', 'ushed', 'assured', 'officerrelated', 'investigated', 'httptcoalbvdnwjtg', 'wwp', 'serving', 'oifoef', 'invisible', 'aampw', 'donations', 'senzu', 'gohan\\x89ûªs', 'pouch', 'gunshot', 'bicep', 'chesttorso', 'kerricktrial', 'jonathanferrell', 'charlesdagnall', 'rub', 'nout', 'rubbin', 'unhealed', 'unending', 'kashmir', 'freekashmir', 'mirrors', 'reflected', 'conducted', 'skims', 'morethan', 'disorders', 'kashmirconflict', 'dianneg', 'bullet', 'selfesteem', 'wiped', 'httptcoyaqrsximph', 'owen', 'ferrells', 'twcnewsclt', 'httptconnbexhklhr', 'mattmosley', 'pour', 'celebrety', 'nogo', 'heals', 'surgical', 'healed', 'woodlawn', 'enemity', 'bishopfred', 'scrolling', 'didbut', 'exact', 'baked', 'alaskan', 'neverforget', 'egoresolution', 'session', 'discussing', 'icymagistrate', '\\x89ûóher', 'arm\\x89ûò', 'friggin', 'icicle', 'projectiles\\x89ûò', 'miniature', 'more\\x89ûó', 'strip', 'covering', 'scabs', 'dauntedpsyche', 'gently', 'dabbed', 'rag', 'crawling', 'skinthese', 'hea', 'rams', 'soldi', 'sorrower', 'httptcoutmwmjirty', 'squeaver', 'hangin', 'buck', 'watchin', 'septic', 'captainnmorgan', 'destiel', 'gazette', 'scratching', 'pedals', 'memenaar', 'kindof', 'restrospect', 'pokemoncards', 'icequeenfroslas', 'ranking', 'artectura', 'florence', 'gimp', 'newave', 'progressives', '\\x89ûïnews\\x89û\\x9d', 'livestreaming', 'girlthatsrio', 'uncles', 'edmund', 'fitzgerald', 'blockage', 'woodward', 'northbound', 'davison', 'shoalstraffic', 'blinker', 'misscharleywebb', 'greer', 'amazondeals', 'skylanders', 'staged', 'locomotive', 'sequel', 'ralph', 'titortau', 'lynch', 'factchecking', 'ombudsmanship', 'raineishida', 'lolim', 'nervous', 'takeaways', 'amazon\\x89ûªs', 'magnificent', 'httptcodbdwtocgxf', 'conclusively', 'httptcosfakqnveta', 'furious', 'httptcocarmqivkwu', 'janeenorman', 'probability', 'httptcocdohgnjmst', 'kuala', 'lumpur', 'httptcoyjjbntcazy', 'ajabrown', 'httptcoledmvezcol', 'ministersays', 'buzzfeed', 'firstever', 'vanished', 'httptcodtfswnjzil', 'httptcoedekrmqtpq', 'najibmalaysiaairlines', 'yahoonewsdigest', 'wrecked', 'julianlage', 'grantgordy', 'pastie', 'industrial', 'stare', 'costing', 'apiece', 'httptcodtdidinqyf', 'cramer', 'iger\\x89ûªs', 'disney\\x89ûªs', '\\x89ûòåêcnbc', 'liv', 'oliviaapalmerr', 'thatswhatfriendsarefor', 'audi', 'igers', 'cnbc', 'kunstler', 'coleslaw', 'httptcosijnbmczij', 'exotic', 'tuneswgg', 'ohhmyjoshh', 'stevenrulles', 'httptcovuwbsrsnry', 'riddler', 'earlyexit', 'presidential', 'marynmck', 'adorable', 'topnews', 'caitsroberts', 'barra', 'kirafrog', 'mountwario', 'goner', 'cameronhacker', 'shoutout', 'fx', 'forex', 'trading', 'engineshed', 'httptcoomnbatjeao', 'httptcorsmvgdxriv', 'boxes', 'exploding', 'gameofkittens', 'explodingkittens\\x89û', 'iwate', 'ayyo', 'dei', 'explosivespacked', 'tnwx', 'httptcofwqfckncqw', 'fatherofthree', 'overtaking', 'bathandnortheastsomerset', 'forney', 'developing', 'symptoms']\n"
     ]
    }
   ],
   "source": [
    " print(list(model.wv.vocab) )"
   ]
  },
  {
   "cell_type": "code",
   "execution_count": 38,
   "metadata": {},
   "outputs": [
    {
     "output_type": "stream",
     "name": "stdout",
     "text": [
      "[('sins', 0.2796197831630707), ('httptcognzwxqktam', 0.25066015124320984), ('printing', 0.22455847263336182), ('kombat', 0.22090771794319153), ('system', 0.21606189012527466), ('overnight', 0.21453416347503662), ('displacedinjuredkilled', 0.2123355269432068), ('throwin', 0.20703837275505066), ('credited', 0.20587119460105896), ('test', 0.20249271392822266)]\n"
     ]
    }
   ],
   "source": [
    "similar_words = model.wv.most_similar('fart')\t\n",
    "print(similar_words)\t"
   ]
  },
  {
   "cell_type": "code",
   "execution_count": 25,
   "metadata": {},
   "outputs": [
    {
     "output_type": "stream",
     "name": "stdout",
     "text": [
      "[ 3.43667064e-03  1.23436050e-02 -6.69078249e-03 -7.61220930e-04\n  8.77864379e-03 -1.75273861e-03  2.55663018e-03  8.87596700e-03\n  6.47313776e-04  1.01737157e-02 -5.16054127e-03  1.27925130e-03\n  1.83120044e-03 -6.74367882e-03 -2.77801929e-03  4.47372114e-03\n  5.74486051e-03  1.97366392e-03  6.83540478e-03 -6.95012044e-03\n  1.82959605e-02 -6.38897438e-03  6.08488172e-03  2.72689480e-03\n  6.78411219e-03  2.06522527e-03 -4.39010700e-03 -1.48089239e-02\n  1.70867308e-03  2.50097783e-03 -1.23223639e-03  5.73651865e-03\n -1.40677765e-03 -3.60137480e-03 -1.17303543e-02 -3.74244736e-03\n  5.90924174e-03  3.31979623e-04 -7.44515099e-04 -7.16887973e-03\n  3.78438574e-03  7.03256158e-03 -1.01774279e-02 -6.36471494e-04\n -4.63861553e-03 -1.48901320e-03  4.72006062e-03  3.22265667e-03\n  2.73729005e-04  1.04394287e-03  1.32095292e-02  2.72798329e-03\n  8.70610215e-03  1.44086434e-02 -1.41716341e-03  1.06589627e-02\n  6.32976647e-03 -1.59420935e-03  9.78029799e-03  7.79368589e-03\n -2.52584112e-03 -2.73679994e-04 -1.74254266e-04  1.36610551e-03\n  1.42769818e-03 -1.04228547e-03  7.01998011e-04 -1.24528608e-03\n  1.54052982e-02  3.54058784e-03  3.23410542e-03  3.14130029e-03\n -6.72650407e-04 -4.91755269e-03 -2.10313941e-03 -6.71150978e-04\n -4.04727599e-03 -9.56979208e-03  1.32064363e-02  2.88940920e-03\n  5.27021184e-04  1.60819385e-02 -3.57382611e-04  7.34678935e-03\n  1.86710730e-02  6.78435992e-03 -1.59887616e-02  4.28501377e-03\n -1.41862379e-02 -7.99557567e-03 -6.57651620e-03  6.83441525e-03\n -1.71507197e-03 -8.33310405e-05 -5.46336640e-03  2.37737619e-03\n  1.29330473e-03 -8.61291122e-03 -9.21913423e-03  1.27465953e-03\n  2.27350113e-03 -4.62117838e-03  1.06841596e-02  4.09805030e-03\n -4.14726092e-03  2.31611752e-03 -6.65529771e-03 -1.01142023e-02\n -4.89251409e-03  4.58429288e-03  4.35473910e-03 -5.20394417e-03\n  9.09752864e-03 -1.59158677e-04 -1.42293668e-03  6.98099192e-03\n -3.49179562e-03 -1.23633433e-03 -1.26062485e-03 -5.20375464e-03\n -7.34947436e-03  1.51118997e-03  2.38311943e-03  1.71569139e-02\n -7.22261425e-03 -8.58974177e-03 -4.91560844e-04  4.93410975e-03\n -7.81311374e-03  1.93319668e-03  1.10047571e-02  7.82026630e-03\n -2.42304686e-03  1.13386905e-03 -1.51472178e-03 -2.84393691e-03\n -8.89762118e-03  8.57708324e-03 -4.41704830e-03  3.61182913e-03\n  6.61579892e-04 -4.56036720e-03 -5.42580476e-03 -7.13922037e-03\n  1.17155677e-02 -2.71552266e-03 -1.00180146e-03  1.29625602e-02\n  3.51665937e-03 -8.64290283e-04 -4.28377511e-03 -2.87455507e-03\n  1.67972955e-03 -2.96200742e-03  8.38745013e-03  1.77953532e-03\n  1.56857725e-02 -1.45383144e-03 -8.32062028e-03  3.92747344e-03\n  5.96889807e-03  8.44260398e-03  8.00598413e-03 -9.31981672e-03\n -1.67121366e-03 -5.13137784e-03 -1.60376094e-02 -1.97911914e-03\n  2.03934638e-03  1.08784549e-02 -1.94706488e-02  2.18789079e-04\n -2.95101153e-03 -7.74687110e-03  2.52426765e-03  1.70202239e-03\n  1.82025805e-02 -1.18444463e-04 -9.12438240e-03 -1.30358571e-02\n  5.91589091e-03 -8.40398949e-04  2.75750621e-03  7.59445177e-03\n -8.43584817e-03 -7.33738113e-03  4.24663676e-03  1.24105066e-02\n  5.75766200e-03 -1.45187685e-02 -1.27692157e-02 -8.07680190e-03\n -2.08730320e-03 -7.33070681e-03  2.23694625e-03  4.12485376e-03\n  6.52831979e-04  1.42553006e-03 -8.85789003e-03 -5.99650294e-03\n -1.39053883e-02 -3.99866048e-03 -8.69371090e-03 -4.32675146e-03\n  5.00668911e-03 -2.45956331e-03  2.26568058e-03  1.89270836e-03\n -8.74870643e-03 -5.57245826e-03 -1.83711275e-02  4.22919262e-03\n  5.70513168e-03 -1.76905398e-03 -1.02306735e-02  2.83683464e-03\n -1.46341901e-02  5.90710854e-03 -7.65702268e-03 -7.92218279e-03\n -7.38043757e-03  6.37626089e-03 -1.05737159e-02  6.61683502e-03\n -4.70563490e-03 -6.67031435e-03  7.50361323e-06 -2.96571146e-04\n  9.87295061e-03  9.90553945e-03 -1.50602229e-03  2.93478090e-03\n  5.60172368e-03 -1.11882971e-03 -1.21952957e-02 -4.28770762e-03\n  4.73878393e-03 -9.70459543e-04  9.60484892e-03  3.16760805e-03\n  5.01524052e-03  5.16531337e-03 -6.27535442e-03 -8.55028629e-03\n  1.26788963e-03 -2.80910125e-03 -4.45124414e-03 -3.94512061e-03\n -6.75389869e-03  2.49153026e-03 -1.38012890e-03  8.56722705e-03\n -8.94478336e-03 -7.69249583e-03  3.70857492e-03  7.24888465e-04\n -4.76627704e-03 -1.28559377e-02 -2.77458667e-03 -9.07384208e-04\n -5.70113398e-03  7.70259649e-03  1.41090713e-02  7.55757093e-03\n -3.81270610e-03 -6.04282273e-03  8.50732438e-03  8.74415785e-03\n  6.85943663e-03 -4.00785543e-03  1.97103713e-03 -4.02108580e-03\n -7.83020351e-03  1.18813827e-03 -1.95894530e-03 -2.12453934e-03\n  8.66140518e-03  4.30475455e-03  6.78329612e-04 -3.22526158e-03\n  7.75740761e-03  1.71617966e-03 -4.37538279e-03  1.90460531e-03\n  4.61725373e-04 -7.39515480e-03  2.85308296e-03 -8.79711285e-03\n -1.92307006e-03 -8.27934779e-03 -4.89722565e-03  1.00350846e-02\n -1.68560818e-02 -1.65708340e-03 -5.21261804e-03  6.84224581e-03\n -5.53371538e-05  1.07993269e-02 -6.60369231e-04  1.19452225e-02]\n"
     ]
    }
   ],
   "source": [
    "print(model['disaster'])"
   ]
  },
  {
   "cell_type": "code",
   "execution_count": 21,
   "metadata": {},
   "outputs": [
    {
     "output_type": "stream",
     "name": "stdout",
     "text": [
      "3\n"
     ]
    }
   ],
   "source": [
    "print(1+2)"
   ]
  },
  {
   "cell_type": "code",
   "execution_count": 22,
   "metadata": {},
   "outputs": [
    {
     "output_type": "stream",
     "name": "stdout",
     "text": [
      "ds\n",
      "(7613, 300)\n",
      "************************\n",
      "ds\n",
      "(7614, 300)\n",
      "************************\n"
     ]
    }
   ],
   "source": [
    "docs_vectors = pd.DataFrame()\n",
    "print(\"ds\")\n",
    "for i in train_data['text']:\n",
    "    li = list(i.split(\" \"))\n",
    "    temp = pd.DataFrame()\n",
    "    for word in li:\n",
    "        word_vec = model.wv[word]\n",
    "        temp = temp.append(pd.Series(word_vec), ignore_index = True)\n",
    "    doc_vector = temp.mean()\n",
    "    docs_vectors = docs_vectors.append(doc_vector, ignore_index = True)\n",
    "print(docs_vectors.shape)\n",
    "print(\"************************\")\n",
    "docs_vectors_test = pd.DataFrame()\n",
    "print(\"ds\")\n",
    "for i in train_data['text']:\n",
    "    li = list(i.split(\" \"))\n",
    "    temp = pd.DataFrame()\n",
    "    for word in li:\n",
    "        word_vec = model.wv[word]\n",
    "        temp = temp.append(pd.Series(word_vec), ignore_index = True)\n",
    "    doc_vector = temp.mean()\n",
    "    docs_vectors_test = docs_vectors.append(doc_vector, ignore_index = True)\n",
    "print(docs_vectors_test.shape)\n",
    "print(\"************************\")"
   ]
  },
  {
   "cell_type": "code",
   "execution_count": 26,
   "metadata": {},
   "outputs": [
    {
     "output_type": "stream",
     "name": "stdout",
     "text": [
      "(7613, 300)\ndss\n"
     ]
    }
   ],
   "source": [
    "print(docs_vectors.shape)\n",
    "print(\"dss\")"
   ]
  },
  {
   "cell_type": "code",
   "execution_count": 27,
   "metadata": {},
   "outputs": [
    {
     "output_type": "execute_result",
     "data": {
      "text/plain": [
       "((6090, 300), (6090,), (1523, 300), (1523,))"
      ]
     },
     "metadata": {},
     "execution_count": 27
    }
   ],
   "source": [
    "\n",
    "\n",
    "from sklearn.model_selection import train_test_split\n",
    "from sklearn.ensemble import AdaBoostClassifier\n",
    "train_x, test_x, train_y, test_y = train_test_split(docs_vectors,\n",
    "                                                   train_target,\n",
    "                                                   test_size = 0.2,\n",
    "                                                   random_state = 1)\n",
    "train_x.shape, train_y.shape, test_x.shape, test_y.shape"
   ]
  },
  {
   "cell_type": "code",
   "execution_count": 28,
   "metadata": {},
   "outputs": [
    {
     "output_type": "stream",
     "name": "stdout",
     "text": [
      "done\n"
     ]
    }
   ],
   "source": [
    "model = AdaBoostClassifier(n_estimators=800, random_state = 1)\n",
    "model.fit(train_x, train_y)\n",
    "print(\"done\")"
   ]
  },
  {
   "cell_type": "code",
   "execution_count": null,
   "metadata": {},
   "outputs": [],
   "source": [
    "print(\"something\")\n",
    "test_pred = model.predict(test_x)\n",
    "from sklearn.metrics import accuracy_score\n",
    "accuracy_score(test_y, test_pred)\n",
    "\n",
    "print(accuracy_score(test_y, test_pred))\n",
    "print(\"something 2\")\n"
   ]
  },
  {
   "cell_type": "code",
   "execution_count": 21,
   "metadata": {},
   "outputs": [
    {
     "name": "stdout",
     "output_type": "stream",
     "text": [
      "done\n",
      "something\n",
      "0.7353906762967827\n",
      "something 2\n"
     ]
    }
   ],
   "source": [
    "from sklearn.ensemble import RandomForestClassifier\n",
    "\n",
    "model = RandomForestClassifier(n_estimators=800, random_state = 1)\n",
    "model.fit(train_x, train_y)\n",
    "print(\"done\")\n",
    "print(\"something\")\n",
    "test_pred = model.predict(test_x)\n",
    "from sklearn.metrics import accuracy_score\n",
    "accuracy_score(test_y, test_pred)\n",
    "\n",
    "print(accuracy_score(test_y, test_pred))\n",
    "print(\"something 2\")"
   ]
  },
  {
   "cell_type": "code",
   "execution_count": 24,
   "metadata": {},
   "outputs": [
    {
     "name": "stdout",
     "output_type": "stream",
     "text": [
      "done\n",
      "something\n",
      "Nearest Neighbors  accuracy:  0.6940249507550886\n",
      "something 2\n",
      "done\n",
      "something\n",
      "Linear SVM  accuracy:  0.5791201575837164\n",
      "something 2\n",
      "done\n",
      "something\n",
      "RBF SVM  accuracy:  0.5791201575837164\n",
      "something 2\n",
      "done\n",
      "something\n",
      "Decision Tree  accuracy:  0.6073539067629679\n",
      "something 2\n",
      "done\n",
      "something\n",
      "Random Forest  accuracy:  0.602757715036113\n",
      "something 2\n",
      "done\n",
      "something\n",
      "Neural Net  accuracy:  0.5791201575837164\n",
      "something 2\n",
      "done\n",
      "something\n",
      "AdaBoost  accuracy:  0.6559422193040052\n",
      "something 2\n",
      "done\n",
      "something\n",
      "Naive Bayes  accuracy:  0.5436638214051215\n",
      "something 2\n",
      "done\n",
      "something\n",
      "QDA  accuracy:  0.7518056467498359\n",
      "something 2\n"
     ]
    }
   ],
   "source": [
    "from sklearn.neural_network import MLPClassifier\n",
    "from sklearn.neighbors import KNeighborsClassifier\n",
    "from sklearn.svm import SVC\n",
    "from sklearn.gaussian_process import GaussianProcessClassifier\n",
    "from sklearn.gaussian_process.kernels import RBF\n",
    "from sklearn.tree import DecisionTreeClassifier\n",
    "from sklearn.ensemble import RandomForestClassifier, AdaBoostClassifier\n",
    "from sklearn.naive_bayes import GaussianNB\n",
    "from sklearn.discriminant_analysis import QuadraticDiscriminantAnalysis\n",
    "classifiers = [\n",
    "    KNeighborsClassifier(3),\n",
    "    SVC(kernel=\"linear\", C=0.025),\n",
    "    SVC(gamma=2, C=1),\n",
    "#     GaussianProcessClassifier(1.0 * RBF(1.0)),\n",
    "    DecisionTreeClassifier(max_depth=5),\n",
    "    RandomForestClassifier(max_depth=5, n_estimators=10, max_features=1),\n",
    "    MLPClassifier(alpha=1, max_iter=1000),\n",
    "    AdaBoostClassifier(),\n",
    "    GaussianNB(),\n",
    "    QuadraticDiscriminantAnalysis()]\n",
    "names = [\"Nearest Neighbors\", \"Linear SVM\", \"RBF SVM\",\n",
    "#          \"Gaussian Process\",\n",
    "         \"Decision Tree\", \"Random Forest\", \"Neural Net\", \"AdaBoost\",\n",
    "         \"Naive Bayes\", \"QDA\"]\n",
    "for i in range(len(classifiers)):\n",
    "    model = classifiers[i]\n",
    "    model.fit(train_x, train_y)\n",
    "    print(\"done\")\n",
    "    print(\"something\")\n",
    "    test_pred = model.predict(test_x)\n",
    "    from sklearn.metrics import accuracy_score\n",
    "    accuracy_score(test_y, test_pred)\n",
    "\n",
    "    print(names[i],\" accuracy: \",accuracy_score(test_y, test_pred))\n",
    "    print(\"something 2\")"
   ]
  }
 ],
 "metadata": {
  "kernelspec": {
   "name": "Python 3.8.5 64-bit",
   "display_name": "Python 3.8.5 64-bit",
   "metadata": {
    "interpreter": {
     "hash": "2db524e06e9f5f4ffedc911c917cb75e12dbc923643829bf417064a77eb14d37"
    }
   }
  },
  "language_info": {
   "codemirror_mode": {
    "name": "ipython",
    "version": 3
   },
   "file_extension": ".py",
   "mimetype": "text/x-python",
   "name": "python",
   "nbconvert_exporter": "python",
   "pygments_lexer": "ipython3",
   "version": "3.8.5-final"
  }
 },
 "nbformat": 4,
 "nbformat_minor": 4
}